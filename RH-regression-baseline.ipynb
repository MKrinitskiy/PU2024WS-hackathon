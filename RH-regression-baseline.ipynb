{
 "cells": [
  {
   "cell_type": "code",
   "execution_count": null,
   "id": "c3881df4",
   "metadata": {},
   "outputs": [],
   "source": [
    "%pip install catboost"
   ]
  },
  {
   "cell_type": "code",
   "execution_count": 1,
   "id": "1a04cee6",
   "metadata": {},
   "outputs": [],
   "source": [
    "%matplotlib inline"
   ]
  },
  {
   "cell_type": "code",
   "execution_count": 45,
   "id": "4bf53e5f",
   "metadata": {},
   "outputs": [],
   "source": [
    "import pandas as pd\n",
    "import numpy as np\n",
    "import matplotlib.pyplot as plt\n",
    "from tqdm import tqdm_notebook\n",
    "import warnings\n",
    "import seaborn as sns\n",
    "from sklearn.ensemble import RandomForestRegressor, GradientBoostingRegressor\n",
    "from sklearn import svm\n",
    "from sklearn.linear_model import Ridge\n",
    "from sklearn.dummy import DummyRegressor\n",
    "# https://scikit-learn.org/stable/supervised_learning.html\n",
    "from sklearn.metrics import mean_squared_error, make_scorer\n",
    "from sklearn.model_selection import train_test_split, cross_val_score\n",
    "from catboost import Pool, CatBoostRegressor"
   ]
  },
  {
   "cell_type": "code",
   "execution_count": 6,
   "id": "9e20658d",
   "metadata": {},
   "outputs": [],
   "source": [
    "df = pd.read_csv('/home/jupyter/datasphere/s3/pu2024ws/data/ICOADS_1950th1960th.csv', sep=';', index_col=None)\n",
    "# df = pd.read_csv('./data/1950-1960/ICOADS_1950th1960th_train.csv', sep=';', index_col=None)"
   ]
  },
  {
   "cell_type": "code",
   "execution_count": 7,
   "id": "18cd421e",
   "metadata": {},
   "outputs": [
    {
     "data": {
      "text/plain": [
       "(3523182, 16)"
      ]
     },
     "execution_count": 7,
     "metadata": {},
     "output_type": "execute_result"
    }
   ],
   "source": [
    "df.shape"
   ]
  },
  {
   "cell_type": "code",
   "execution_count": 8,
   "id": "48145296",
   "metadata": {},
   "outputs": [
    {
     "data": {
      "text/plain": [
       "Index(['YYYY', 'MM', 'DD', 'HHfloat', 'LAT', 'LON', 'TrueWindDirection',\n",
       "       'WindSpeed', 'PresentWeatherCode', 'SLPhPa', 'AirTemperature', 'SST',\n",
       "       'TCA', 'LCA', 'LCT', 'rh'],\n",
       "      dtype='object')"
      ]
     },
     "execution_count": 8,
     "metadata": {},
     "output_type": "execute_result"
    }
   ],
   "source": [
    "df.columns"
   ]
  },
  {
   "cell_type": "code",
   "execution_count": 9,
   "id": "c2641d01",
   "metadata": {},
   "outputs": [
    {
     "data": {
      "text/plain": [
       "Index(['TrueWindDirection', 'WindSpeed', 'PresentWeatherCode', 'SLPhPa',\n",
       "       'AirTemperature', 'SST', 'TCA', 'LCA', 'LCT'],\n",
       "      dtype='object')"
      ]
     },
     "execution_count": 9,
     "metadata": {},
     "output_type": "execute_result"
    }
   ],
   "source": [
    "train_features = df.columns[6:-1]\n",
    "train_features"
   ]
  },
  {
   "cell_type": "code",
   "execution_count": 10,
   "id": "e89bfe3a",
   "metadata": {},
   "outputs": [],
   "source": [
    "X = df[train_features]\n",
    "y = df['rh']"
   ]
  },
  {
   "cell_type": "code",
   "execution_count": null,
   "id": "1a46dd83",
   "metadata": {},
   "outputs": [],
   "source": []
  },
  {
   "cell_type": "markdown",
   "id": "873774b9",
   "metadata": {},
   "source": [
    "## baseline: linear model"
   ]
  },
  {
   "cell_type": "code",
   "execution_count": 12,
   "id": "47296f57",
   "metadata": {},
   "outputs": [],
   "source": [
    "Xtrain, Xval, ytrain, yval = train_test_split(X, y, test_size=0.3)"
   ]
  },
  {
   "cell_type": "code",
   "execution_count": 47,
   "id": "0af0d85f",
   "metadata": {},
   "outputs": [],
   "source": [
    "m = Ridge()"
   ]
  },
  {
   "cell_type": "code",
   "execution_count": 48,
   "id": "a338186b",
   "metadata": {},
   "outputs": [
    {
     "data": {
      "text/plain": [
       "Ridge()"
      ]
     },
     "execution_count": 48,
     "metadata": {},
     "output_type": "execute_result"
    }
   ],
   "source": [
    "m.fit(Xtrain, ytrain)"
   ]
  },
  {
   "cell_type": "code",
   "execution_count": 15,
   "id": "a10b8c79",
   "metadata": {},
   "outputs": [],
   "source": [
    "y_pred_train = m.predict(Xtrain)"
   ]
  },
  {
   "cell_type": "code",
   "execution_count": 17,
   "id": "01ca0d32",
   "metadata": {},
   "outputs": [
    {
     "data": {
      "text/plain": [
       "10.097706403065759"
      ]
     },
     "execution_count": 17,
     "metadata": {},
     "output_type": "execute_result"
    }
   ],
   "source": [
    "rmse_train = np.sqrt(mean_squared_error(y_pred_train, ytrain))\n",
    "rmse_train"
   ]
  },
  {
   "cell_type": "code",
   "execution_count": 18,
   "id": "f3513976",
   "metadata": {},
   "outputs": [],
   "source": [
    "y_pred_val = m.predict(Xval)"
   ]
  },
  {
   "cell_type": "code",
   "execution_count": 19,
   "id": "ddfe6844",
   "metadata": {},
   "outputs": [
    {
     "data": {
      "text/plain": [
       "10.103147167680442"
      ]
     },
     "execution_count": 19,
     "metadata": {},
     "output_type": "execute_result"
    }
   ],
   "source": [
    "rmse_val = np.sqrt(mean_squared_error(y_pred_val, yval))\n",
    "rmse_val"
   ]
  },
  {
   "cell_type": "code",
   "execution_count": null,
   "id": "5a8fdfbf",
   "metadata": {},
   "outputs": [],
   "source": []
  },
  {
   "cell_type": "markdown",
   "id": "f3444f87",
   "metadata": {},
   "source": [
    "### Примитивные модели (dummy models)"
   ]
  },
  {
   "cell_type": "markdown",
   "id": "f2473ea9",
   "metadata": {},
   "source": [
    "#### Константная модель (constant model)"
   ]
  },
  {
   "cell_type": "code",
   "execution_count": 22,
   "id": "11427d73",
   "metadata": {},
   "outputs": [
    {
     "data": {
      "text/plain": [
       "80.16401562988939"
      ]
     },
     "execution_count": 22,
     "metadata": {},
     "output_type": "execute_result"
    }
   ],
   "source": [
    "constant = ytrain.mean()\n",
    "constant"
   ]
  },
  {
   "cell_type": "code",
   "execution_count": 24,
   "id": "bb64264c",
   "metadata": {},
   "outputs": [],
   "source": [
    "yval_constant = constant*np.ones((Xval.shape[0],))"
   ]
  },
  {
   "cell_type": "code",
   "execution_count": 25,
   "id": "6af2c1d3",
   "metadata": {},
   "outputs": [
    {
     "data": {
      "text/plain": [
       "11.30381934386592"
      ]
     },
     "execution_count": 25,
     "metadata": {},
     "output_type": "execute_result"
    }
   ],
   "source": [
    "rmse_constant_val = np.sqrt(mean_squared_error(yval_constant, yval))\n",
    "rmse_constant_val"
   ]
  },
  {
   "cell_type": "code",
   "execution_count": null,
   "id": "e4e6983b",
   "metadata": {},
   "outputs": [],
   "source": []
  },
  {
   "cell_type": "markdown",
   "id": "2ada9b78",
   "metadata": {},
   "source": [
    "#### Модель с произвольным ответом (random model)"
   ]
  },
  {
   "cell_type": "code",
   "execution_count": 26,
   "id": "5f662653",
   "metadata": {},
   "outputs": [],
   "source": [
    "ymin, ymax = ytrain.min(), ytrain.max()"
   ]
  },
  {
   "cell_type": "code",
   "execution_count": 31,
   "id": "4567f908",
   "metadata": {},
   "outputs": [],
   "source": [
    "yval_random = np.random.rand(Xval.shape[0])*(ymax-ymin) + ymin"
   ]
  },
  {
   "cell_type": "code",
   "execution_count": 32,
   "id": "01081b9f",
   "metadata": {},
   "outputs": [
    {
     "data": {
      "text/plain": [
       "35.481755486555585"
      ]
     },
     "execution_count": 32,
     "metadata": {},
     "output_type": "execute_result"
    }
   ],
   "source": [
    "rmse_random_val = np.sqrt(mean_squared_error(yval_random, yval))\n",
    "rmse_random_val"
   ]
  },
  {
   "cell_type": "code",
   "execution_count": null,
   "id": "2fb7f317",
   "metadata": {},
   "outputs": [],
   "source": []
  },
  {
   "cell_type": "markdown",
   "id": "7c899bc8",
   "metadata": {},
   "source": [
    "### Более корректный способ оценки качества модели"
   ]
  },
  {
   "cell_type": "code",
   "execution_count": 39,
   "id": "afc8f54f",
   "metadata": {},
   "outputs": [],
   "source": [
    "m = DummyRegressor(strategy='mean')\n",
    "scores = cross_val_score(m, X, y, cv=7, scoring = make_scorer(mean_squared_error))"
   ]
  },
  {
   "cell_type": "code",
   "execution_count": 41,
   "id": "f1c5c718",
   "metadata": {},
   "outputs": [],
   "source": [
    "scores_rmse = np.sqrt(scores)"
   ]
  },
  {
   "cell_type": "code",
   "execution_count": 44,
   "id": "35cf76ba",
   "metadata": {},
   "outputs": [
    {
     "data": {
      "text/plain": [
       "(11.297883599409849, 0.1554322405045522)"
      ]
     },
     "execution_count": 44,
     "metadata": {},
     "output_type": "execute_result"
    }
   ],
   "source": [
    "scores_rmse.mean(), scores_rmse.std()"
   ]
  },
  {
   "cell_type": "code",
   "execution_count": null,
   "id": "c16cd82a",
   "metadata": {},
   "outputs": [],
   "source": []
  },
  {
   "cell_type": "code",
   "execution_count": null,
   "id": "b41529b5",
   "metadata": {},
   "outputs": [],
   "source": []
  },
  {
   "cell_type": "code",
   "execution_count": null,
   "id": "2ddd8b28",
   "metadata": {},
   "outputs": [],
   "source": []
  },
  {
   "cell_type": "markdown",
   "id": "36e9e723",
   "metadata": {},
   "source": [
    "### Применение модели"
   ]
  },
  {
   "cell_type": "code",
   "execution_count": 46,
   "id": "2cb15ca5",
   "metadata": {},
   "outputs": [],
   "source": [
    "df_test = pd.read_csv('./data/ICOADS_1970th_TEST-FEATURES.csv', sep=';', index_col=None)"
   ]
  },
  {
   "cell_type": "code",
   "execution_count": 50,
   "id": "77206ec1",
   "metadata": {},
   "outputs": [
    {
     "data": {
      "text/plain": [
       "Index(['YYYY', 'MM', 'DD', 'HHfloat', 'LAT', 'LON', 'TrueWindDirection',\n",
       "       'WindSpeed', 'PresentWeatherCode', 'SLPhPa', 'AirTemperature', 'SST',\n",
       "       'TCA', 'LCA', 'LCT'],\n",
       "      dtype='object')"
      ]
     },
     "execution_count": 50,
     "metadata": {},
     "output_type": "execute_result"
    }
   ],
   "source": [
    "df_test.columns"
   ]
  },
  {
   "cell_type": "code",
   "execution_count": 51,
   "id": "785fc146",
   "metadata": {},
   "outputs": [],
   "source": [
    "Xtest = df_test[train_features]"
   ]
  },
  {
   "cell_type": "code",
   "execution_count": 52,
   "id": "d66f245e",
   "metadata": {},
   "outputs": [],
   "source": [
    "ytest_pred = m.predict(Xtest)"
   ]
  },
  {
   "cell_type": "code",
   "execution_count": 56,
   "id": "9d3a640c",
   "metadata": {},
   "outputs": [],
   "source": [
    "assert ytest_pred.shape == (1773180,), 'something is wrong with the results'"
   ]
  },
  {
   "cell_type": "code",
   "execution_count": 58,
   "id": "df3401c8",
   "metadata": {},
   "outputs": [],
   "source": [
    "np.save('demo-team-output.v1.npy', ytest_pred)"
   ]
  },
  {
   "cell_type": "markdown",
   "id": "bcf2b4e2",
   "metadata": {},
   "source": [
    "Файл вычисленных результатов (здесь он называется `demo-team-output.v1.npy`, но имя может быть другим по вашему желанию) - нужно переслать модератору хакатона, который оценит качество модели и внесет результаты в таблицу рекордов"
   ]
  },
  {
   "cell_type": "code",
   "execution_count": null,
   "id": "4aba3441",
   "metadata": {},
   "outputs": [],
   "source": []
  },
  {
   "cell_type": "code",
   "execution_count": null,
   "id": "b99192ea",
   "metadata": {},
   "outputs": [],
   "source": []
  }
 ],
 "metadata": {
  "kernelspec": {
   "display_name": "Python 3 (ipykernel)",
   "language": "python",
   "name": "python3"
  },
  "language_info": {
   "codemirror_mode": {
    "name": "ipython",
    "version": 3
   },
   "file_extension": ".py",
   "mimetype": "text/x-python",
   "name": "python",
   "nbconvert_exporter": "python",
   "pygments_lexer": "ipython3",
   "version": "3.9.12"
  }
 },
 "nbformat": 4,
 "nbformat_minor": 5
}
